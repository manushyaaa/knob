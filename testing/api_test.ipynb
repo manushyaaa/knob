{
 "cells": [
  {
   "cell_type": "code",
   "execution_count": 12,
   "metadata": {},
   "outputs": [
    {
     "name": "stdout",
     "output_type": "stream",
     "text": [
      "{'device': {'id': '06d06b532d2a0282d88fff7491fec6637aff53cc', 'is_active': True, 'is_private_session': False, 'is_restricted': False, 'name': 'MANU', 'supports_volume': True, 'type': 'Computer', 'volume_percent': 35}, 'shuffle_state': False, 'repeat_state': 'off', 'timestamp': 1696833331716, 'context': {'external_urls': {'spotify': 'https://open.spotify.com/playlist/37i9dQZEVXcKVcClSPlWjm'}, 'href': 'https://api.spotify.com/v1/playlists/37i9dQZEVXcKVcClSPlWjm', 'type': 'playlist', 'uri': 'spotify:playlist:37i9dQZEVXcKVcClSPlWjm'}, 'progress_ms': 191930, 'item': {'album': {'album_type': 'album', 'artists': [{'external_urls': {'spotify': 'https://open.spotify.com/artist/66VUlJ41NQs9bRTflM4eGA'}, 'href': 'https://api.spotify.com/v1/artists/66VUlJ41NQs9bRTflM4eGA', 'id': '66VUlJ41NQs9bRTflM4eGA', 'name': 'Agnee', 'type': 'artist', 'uri': 'spotify:artist:66VUlJ41NQs9bRTflM4eGA'}], 'available_markets': ['AR', 'AU', 'AT', 'BE', 'BO', 'BR', 'BG', 'CA', 'CL', 'CO', 'CR', 'CY', 'CZ', 'DK', 'DO', 'DE', 'EC', 'EE', 'SV', 'FI', 'FR', 'GR', 'GT', 'HN', 'HK', 'HU', 'IS', 'IE', 'IT', 'LV', 'LT', 'LU', 'MY', 'MT', 'NL', 'NZ', 'NI', 'NO', 'PA', 'PY', 'PE', 'PH', 'PL', 'PT', 'SG', 'SK', 'ES', 'SE', 'CH', 'TW', 'TR', 'UY', 'US', 'GB', 'AD', 'LI', 'MC', 'ID', 'JP', 'TH', 'VN', 'RO', 'IL', 'ZA', 'SA', 'AE', 'BH', 'QA', 'OM', 'KW', 'EG', 'MA', 'DZ', 'TN', 'LB', 'JO', 'PS', 'IN', 'BY', 'KZ', 'MD', 'UA', 'AL', 'BA', 'HR', 'ME', 'MK', 'RS', 'SI', 'KR', 'BD', 'PK', 'LK', 'GH', 'KE', 'NG', 'TZ', 'UG', 'AG', 'AM', 'BS', 'BB', 'BZ', 'BT', 'BW', 'BF', 'CV', 'CW', 'DM', 'FJ', 'GM', 'GE', 'GD', 'GW', 'GY', 'HT', 'JM', 'KI', 'LS', 'LR', 'MW', 'MV', 'ML', 'MH', 'FM', 'NA', 'NR', 'NE', 'PW', 'PG', 'WS', 'SM', 'ST', 'SN', 'SC', 'SL', 'SB', 'KN', 'LC', 'VC', 'SR', 'TL', 'TO', 'TT', 'TV', 'VU', 'AZ', 'BN', 'BI', 'KH', 'CM', 'TD', 'KM', 'GQ', 'SZ', 'GA', 'GN', 'KG', 'LA', 'MO', 'MR', 'MN', 'NP', 'RW', 'TG', 'UZ', 'ZW', 'BJ', 'MG', 'MU', 'MZ', 'AO', 'CI', 'DJ', 'ZM', 'CD', 'CG', 'IQ', 'LY', 'TJ', 'VE', 'ET', 'XK'], 'external_urls': {'spotify': 'https://open.spotify.com/album/4zE9JWKkoH2ezquD54Kwn9'}, 'href': 'https://api.spotify.com/v1/albums/4zE9JWKkoH2ezquD54Kwn9', 'id': '4zE9JWKkoH2ezquD54Kwn9', 'images': [{'height': 640, 'url': 'https://i.scdn.co/image/ab67616d0000b273310388fc9ed4739ae25919d9', 'width': 640}, {'height': 300, 'url': 'https://i.scdn.co/image/ab67616d00001e02310388fc9ed4739ae25919d9', 'width': 300}, {'height': 64, 'url': 'https://i.scdn.co/image/ab67616d00004851310388fc9ed4739ae25919d9', 'width': 64}], 'name': 'Agnee', 'release_date': '2007-04-27', 'release_date_precision': 'day', 'total_tracks': 8, 'type': 'album', 'uri': 'spotify:album:4zE9JWKkoH2ezquD54Kwn9'}, 'artists': [{'external_urls': {'spotify': 'https://open.spotify.com/artist/66VUlJ41NQs9bRTflM4eGA'}, 'href': 'https://api.spotify.com/v1/artists/66VUlJ41NQs9bRTflM4eGA', 'id': '66VUlJ41NQs9bRTflM4eGA', 'name': 'Agnee', 'type': 'artist', 'uri': 'spotify:artist:66VUlJ41NQs9bRTflM4eGA'}], 'available_markets': ['AR', 'AU', 'AT', 'BE', 'BO', 'BR', 'BG', 'CA', 'CL', 'CO', 'CR', 'CY', 'CZ', 'DK', 'DO', 'DE', 'EC', 'EE', 'SV', 'FI', 'FR', 'GR', 'GT', 'HN', 'HK', 'HU', 'IS', 'IE', 'IT', 'LV', 'LT', 'LU', 'MY', 'MT', 'NL', 'NZ', 'NI', 'NO', 'PA', 'PY', 'PE', 'PH', 'PL', 'PT', 'SG', 'SK', 'ES', 'SE', 'CH', 'TW', 'TR', 'UY', 'US', 'GB', 'AD', 'LI', 'MC', 'ID', 'JP', 'TH', 'VN', 'RO', 'IL', 'ZA', 'SA', 'AE', 'BH', 'QA', 'OM', 'KW', 'EG', 'MA', 'DZ', 'TN', 'LB', 'JO', 'PS', 'IN', 'BY', 'KZ', 'MD', 'UA', 'AL', 'BA', 'HR', 'ME', 'MK', 'RS', 'SI', 'KR', 'BD', 'PK', 'LK', 'GH', 'KE', 'NG', 'TZ', 'UG', 'AG', 'AM', 'BS', 'BB', 'BZ', 'BT', 'BW', 'BF', 'CV', 'CW', 'DM', 'FJ', 'GM', 'GE', 'GD', 'GW', 'GY', 'HT', 'JM', 'KI', 'LS', 'LR', 'MW', 'MV', 'ML', 'MH', 'FM', 'NA', 'NR', 'NE', 'PW', 'PG', 'WS', 'SM', 'ST', 'SN', 'SC', 'SL', 'SB', 'KN', 'LC', 'VC', 'SR', 'TL', 'TO', 'TT', 'TV', 'VU', 'AZ', 'BN', 'BI', 'KH', 'CM', 'TD', 'KM', 'GQ', 'SZ', 'GA', 'GN', 'KG', 'LA', 'MO', 'MR', 'MN', 'NP', 'RW', 'TG', 'UZ', 'ZW', 'BJ', 'MG', 'MU', 'MZ', 'AO', 'CI', 'DJ', 'ZM', 'CD', 'CG', 'IQ', 'LY', 'TJ', 'VE', 'ET', 'XK'], 'disc_number': 1, 'duration_ms': 299360, 'explicit': False, 'external_ids': {'isrc': 'INS170701361'}, 'external_urls': {'spotify': 'https://open.spotify.com/track/5V6XcXBrCGI6JOeYr4Uyo3'}, 'href': 'https://api.spotify.com/v1/tracks/5V6XcXBrCGI6JOeYr4Uyo3', 'id': '5V6XcXBrCGI6JOeYr4Uyo3', 'is_local': False, 'name': 'Shaam Tanha', 'popularity': 43, 'preview_url': 'https://p.scdn.co/mp3-preview/4ee9ae83233172f57a819a8283836cd3beed6390?cid=ad7d4f3724b6446ebd37af580ca3273e', 'track_number': 3, 'type': 'track', 'uri': 'spotify:track:5V6XcXBrCGI6JOeYr4Uyo3'}, 'currently_playing_type': 'track', 'actions': {'disallows': {'resuming': True}}, 'is_playing': True}\n",
      "Playback paused.\n"
     ]
    }
   ],
   "source": [
    "import spotipy\n",
    "from spotipy.oauth2 import SpotifyClientCredentials\n",
    "import time\n",
    "\n",
    "client_id = 'ad7d4f3724b6446ebd37af580ca3273e'\n",
    "client_secret = '0d9d08d329e54bc19abc36751534b8f8'\n",
    "    \n",
    "sp = spotipy.Spotify(auth_manager=spotipy.SpotifyOAuth(client_id=client_id,\n",
    "                                                       client_secret=client_secret, \n",
    "                                                       redirect_uri='http://localhost:8888/callback',\n",
    "                                                       scope='user-modify-playback-state user-read-playback-state'))\n",
    "\n",
    "\n",
    "try:\n",
    "    current_track = sp.current_playback()\n",
    "    \n",
    "    print(current_track)\n",
    "    if current_track is not None:\n",
    "        sp.pause_playback()\n",
    "        print(\"Playback paused.\")\n",
    "    else:\n",
    "        sp.start_playback()\n",
    "        print(\"Playback started.\")\n",
    "except Exception as e:\n",
    "    print(f\"Spotify API Error: {e}\")"
   ]
  },
  {
   "cell_type": "code",
   "execution_count": 22,
   "metadata": {},
   "outputs": [
    {
     "name": "stdout",
     "output_type": "stream",
     "text": [
      "Playback paused.\n"
     ]
    }
   ],
   "source": [
    "import spotipy\n",
    "from spotipy.oauth2 import SpotifyOAuth\n",
    "\n",
    "# Replace these with your own credentials\n",
    "CLIENT_ID = 'ad7d4f3724b6446ebd37af580ca3273e'\n",
    "CLIENT_SECRET = '0d9d08d329e54bc19abc36751534b8f8'\n",
    "REDIRECT_URI = 'http://localhost:8888/callback'\n",
    "scopes = 'user-read-playback-state user-modify-playback-state'  # Add the necessary scopes\n",
    "\n",
    "sp_oauth = SpotifyOAuth(CLIENT_ID, CLIENT_SECRET, REDIRECT_URI, scope=scopes)\n",
    "\n",
    "# Check if the user is authenticated or start the authentication process\n",
    "if not sp_oauth.get_cached_token():\n",
    "    auth_url = sp_oauth.get_authorize_url()\n",
    "    print(f'Please visit this URL to authorize the application: {auth_url}')\n",
    "    response = input('Enter the URL you were redirected to: ')\n",
    "    code = sp_oauth.parse_response_code(response)\n",
    "    token_info = sp_oauth.get_access_token(code)\n",
    "    access_token = token_info['access_token']\n",
    "else:\n",
    "    access_token = sp_oauth.get_cached_token()['access_token']\n",
    "\n",
    "sp = spotipy.Spotify(auth=access_token)\n",
    "\n",
    "try:\n",
    "    current_track = sp.current_playback()\n",
    "    \n",
    "    if current_track is not None:\n",
    "        playback_state = current_track['is_playing']\n",
    "        if playback_state:\n",
    "            sp.pause_playback()\n",
    "            print(\"Playback paused.\")\n",
    "        else:\n",
    "            sp.start_playback()\n",
    "            print(\"Playback started.\")\n",
    "    else:\n",
    "        print(\"No track is currently playing.\")\n",
    "except Exception as e:\n",
    "    print(f\"Spotify API Error: {e}\")\n",
    "\n"
   ]
  },
  {
   "cell_type": "code",
   "execution_count": 8,
   "metadata": {},
   "outputs": [
    {
     "ename": "ModuleNotFoundError",
     "evalue": "No module named 'sounddevice'",
     "output_type": "error",
     "traceback": [
      "\u001b[1;31m---------------------------------------------------------------------------\u001b[0m",
      "\u001b[1;31mModuleNotFoundError\u001b[0m                       Traceback (most recent call last)",
      "\u001b[1;32mg:\\arduino_serial_testing\\volcon\\testing\\api_test.ipynb Cell 3\u001b[0m line \u001b[0;36m1\n\u001b[1;32m----> <a href='vscode-notebook-cell:/g%3A/arduino_serial_testing/volcon/testing/api_test.ipynb#W3sZmlsZQ%3D%3D?line=0'>1</a>\u001b[0m \u001b[39mimport\u001b[39;00m \u001b[39msounddevice\u001b[39;00m \u001b[39mas\u001b[39;00m \u001b[39msd\u001b[39;00m\n\u001b[0;32m      <a href='vscode-notebook-cell:/g%3A/arduino_serial_testing/volcon/testing/api_test.ipynb#W3sZmlsZQ%3D%3D?line=2'>3</a>\u001b[0m \u001b[39mdef\u001b[39;00m \u001b[39mlist_audio_devices\u001b[39m():\n\u001b[0;32m      <a href='vscode-notebook-cell:/g%3A/arduino_serial_testing/volcon/testing/api_test.ipynb#W3sZmlsZQ%3D%3D?line=3'>4</a>\u001b[0m     info \u001b[39m=\u001b[39m sd\u001b[39m.\u001b[39mquery_devices()\n",
      "\u001b[1;31mModuleNotFoundError\u001b[0m: No module named 'sounddevice'"
     ]
    }
   ],
   "source": [
    "import sounddevice as sd\n",
    "\n",
    "def list_audio_devices():\n",
    "    info = sd.query_devices()\n",
    "    return info\n",
    "\n",
    "def cycle_audio_devices():\n",
    "    devices = list_audio_devices()\n",
    "    current_device = sd.default.device\n",
    "    device_count = len(devices)\n",
    "\n",
    "    if device_count == 0:\n",
    "        print(\"No audio devices found.\")\n",
    "        return\n",
    "\n",
    "    print(\"Available audio devices:\")\n",
    "    for i, device in enumerate(devices):\n",
    "        print(f\"Device {i} - {device['name']}\")\n",
    "\n",
    "    print(f\"Currently using Device {current_device} - {devices[current_device]['name']}\")\n",
    "\n",
    "    while True:\n",
    "        try:\n",
    "            choice = input(\"Enter the device number to switch to (q to quit): \")\n",
    "            if choice == 'q':\n",
    "                break\n",
    "            device_id = int(choice)\n",
    "            if 0 <= device_id < device_count:\n",
    "                sd.default.device = device_id\n",
    "                print(f\"Switched to Device {device_id} - {devices[device_id]['name']}\")\n",
    "            else:\n",
    "                print(\"Invalid device number. Please try again.\")\n",
    "        except ValueError:\n",
    "            print(\"Invalid input. Please enter a valid device number.\")\n",
    "\n",
    "if __name__ == \"__main__\":\n",
    "    cycle_audio_devices()\n"
   ]
  }
 ],
 "metadata": {
  "kernelspec": {
   "display_name": "myenv",
   "language": "python",
   "name": "python3"
  },
  "language_info": {
   "codemirror_mode": {
    "name": "ipython",
    "version": 3
   },
   "file_extension": ".py",
   "mimetype": "text/x-python",
   "name": "python",
   "nbconvert_exporter": "python",
   "pygments_lexer": "ipython3",
   "version": "3.11.5"
  }
 },
 "nbformat": 4,
 "nbformat_minor": 2
}
