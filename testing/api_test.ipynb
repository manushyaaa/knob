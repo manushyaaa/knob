{
 "cells": [
  {
   "cell_type": "code",
   "execution_count": 14,
   "metadata": {},
   "outputs": [
    {
     "name": "stderr",
     "output_type": "stream",
     "text": [
      "HTTP Error for PUT to https://api.spotify.com/v1/me/player/pause with Params: {} returned 403 due to Player command failed: Restriction violated\n"
     ]
    },
    {
     "ename": "SpotifyException",
     "evalue": "http status: 403, code:-1 - https://api.spotify.com/v1/me/player/pause:\n Player command failed: Restriction violated, reason: UNKNOWN",
     "output_type": "error",
     "traceback": [
      "\u001b[1;31m---------------------------------------------------------------------------\u001b[0m",
      "\u001b[1;31mHTTPError\u001b[0m                                 Traceback (most recent call last)",
      "File \u001b[1;32mg:\\arduino_serial_testing\\volcon\\myenv\\Lib\\site-packages\\spotipy\\client.py:271\u001b[0m, in \u001b[0;36mSpotify._internal_call\u001b[1;34m(self, method, url, payload, params)\u001b[0m\n\u001b[0;32m    266\u001b[0m response \u001b[39m=\u001b[39m \u001b[39mself\u001b[39m\u001b[39m.\u001b[39m_session\u001b[39m.\u001b[39mrequest(\n\u001b[0;32m    267\u001b[0m     method, url, headers\u001b[39m=\u001b[39mheaders, proxies\u001b[39m=\u001b[39m\u001b[39mself\u001b[39m\u001b[39m.\u001b[39mproxies,\n\u001b[0;32m    268\u001b[0m     timeout\u001b[39m=\u001b[39m\u001b[39mself\u001b[39m\u001b[39m.\u001b[39mrequests_timeout, \u001b[39m*\u001b[39m\u001b[39m*\u001b[39margs\n\u001b[0;32m    269\u001b[0m )\n\u001b[1;32m--> 271\u001b[0m response\u001b[39m.\u001b[39;49mraise_for_status()\n\u001b[0;32m    272\u001b[0m results \u001b[39m=\u001b[39m response\u001b[39m.\u001b[39mjson()\n",
      "File \u001b[1;32mg:\\arduino_serial_testing\\volcon\\myenv\\Lib\\site-packages\\requests\\models.py:1021\u001b[0m, in \u001b[0;36mResponse.raise_for_status\u001b[1;34m(self)\u001b[0m\n\u001b[0;32m   1020\u001b[0m \u001b[39mif\u001b[39;00m http_error_msg:\n\u001b[1;32m-> 1021\u001b[0m     \u001b[39mraise\u001b[39;00m HTTPError(http_error_msg, response\u001b[39m=\u001b[39m\u001b[39mself\u001b[39m)\n",
      "\u001b[1;31mHTTPError\u001b[0m: 403 Client Error: Forbidden for url: https://api.spotify.com/v1/me/player/pause",
      "\nDuring handling of the above exception, another exception occurred:\n",
      "\u001b[1;31mSpotifyException\u001b[0m                          Traceback (most recent call last)",
      "\u001b[1;32mg:\\arduino_serial_testing\\volcon\\testing\\api_test.ipynb Cell 1\u001b[0m line \u001b[0;36m1\n\u001b[0;32m      <a href='vscode-notebook-cell:/g%3A/arduino_serial_testing/volcon/testing/api_test.ipynb#W0sZmlsZQ%3D%3D?line=6'>7</a>\u001b[0m sp \u001b[39m=\u001b[39m spotipy\u001b[39m.\u001b[39mSpotify(auth_manager\u001b[39m=\u001b[39mspotipy\u001b[39m.\u001b[39mSpotifyOAuth(client_id\u001b[39m=\u001b[39mclient_id,\n\u001b[0;32m      <a href='vscode-notebook-cell:/g%3A/arduino_serial_testing/volcon/testing/api_test.ipynb#W0sZmlsZQ%3D%3D?line=7'>8</a>\u001b[0m                                                        client_secret\u001b[39m=\u001b[39mclient_secret, \n\u001b[0;32m      <a href='vscode-notebook-cell:/g%3A/arduino_serial_testing/volcon/testing/api_test.ipynb#W0sZmlsZQ%3D%3D?line=8'>9</a>\u001b[0m                                                        redirect_uri\u001b[39m=\u001b[39m\u001b[39m'\u001b[39m\u001b[39mhttp://localhost:8888/callback\u001b[39m\u001b[39m'\u001b[39m,\n\u001b[0;32m     <a href='vscode-notebook-cell:/g%3A/arduino_serial_testing/volcon/testing/api_test.ipynb#W0sZmlsZQ%3D%3D?line=9'>10</a>\u001b[0m                                                        scope\u001b[39m=\u001b[39m\u001b[39m'\u001b[39m\u001b[39muser-modify-playback-state\u001b[39m\u001b[39m'\u001b[39m))\n\u001b[0;32m     <a href='vscode-notebook-cell:/g%3A/arduino_serial_testing/volcon/testing/api_test.ipynb#W0sZmlsZQ%3D%3D?line=11'>12</a>\u001b[0m \u001b[39m#sp.next_track()\u001b[39;00m\n\u001b[0;32m     <a href='vscode-notebook-cell:/g%3A/arduino_serial_testing/volcon/testing/api_test.ipynb#W0sZmlsZQ%3D%3D?line=12'>13</a>\u001b[0m \u001b[39m#sp.previous_track()\u001b[39;00m\n\u001b[1;32m---> <a href='vscode-notebook-cell:/g%3A/arduino_serial_testing/volcon/testing/api_test.ipynb#W0sZmlsZQ%3D%3D?line=13'>14</a>\u001b[0m sp\u001b[39m.\u001b[39;49mpause_playback()\n",
      "File \u001b[1;32mg:\\arduino_serial_testing\\volcon\\myenv\\Lib\\site-packages\\spotipy\\client.py:1831\u001b[0m, in \u001b[0;36mSpotify.pause_playback\u001b[1;34m(self, device_id)\u001b[0m\n\u001b[0;32m   1825\u001b[0m \u001b[39mdef\u001b[39;00m \u001b[39mpause_playback\u001b[39m(\u001b[39mself\u001b[39m, device_id\u001b[39m=\u001b[39m\u001b[39mNone\u001b[39;00m):\n\u001b[0;32m   1826\u001b[0m \u001b[39m    \u001b[39m\u001b[39m\"\"\" Pause user's playback.\u001b[39;00m\n\u001b[0;32m   1827\u001b[0m \n\u001b[0;32m   1828\u001b[0m \u001b[39m        Parameters:\u001b[39;00m\n\u001b[0;32m   1829\u001b[0m \u001b[39m            - device_id - device target for playback\u001b[39;00m\n\u001b[0;32m   1830\u001b[0m \u001b[39m    \"\"\"\u001b[39;00m\n\u001b[1;32m-> 1831\u001b[0m     \u001b[39mreturn\u001b[39;00m \u001b[39mself\u001b[39;49m\u001b[39m.\u001b[39;49m_put(\u001b[39mself\u001b[39;49m\u001b[39m.\u001b[39;49m_append_device_id(\u001b[39m\"\u001b[39;49m\u001b[39mme/player/pause\u001b[39;49m\u001b[39m\"\u001b[39;49m, device_id))\n",
      "File \u001b[1;32mg:\\arduino_serial_testing\\volcon\\myenv\\Lib\\site-packages\\spotipy\\client.py:338\u001b[0m, in \u001b[0;36mSpotify._put\u001b[1;34m(self, url, args, payload, **kwargs)\u001b[0m\n\u001b[0;32m    336\u001b[0m \u001b[39mif\u001b[39;00m args:\n\u001b[0;32m    337\u001b[0m     kwargs\u001b[39m.\u001b[39mupdate(args)\n\u001b[1;32m--> 338\u001b[0m \u001b[39mreturn\u001b[39;00m \u001b[39mself\u001b[39;49m\u001b[39m.\u001b[39;49m_internal_call(\u001b[39m\"\u001b[39;49m\u001b[39mPUT\u001b[39;49m\u001b[39m\"\u001b[39;49m, url, payload, kwargs)\n",
      "File \u001b[1;32mg:\\arduino_serial_testing\\volcon\\myenv\\Lib\\site-packages\\spotipy\\client.py:293\u001b[0m, in \u001b[0;36mSpotify._internal_call\u001b[1;34m(self, method, url, payload, params)\u001b[0m\n\u001b[0;32m    286\u001b[0m         reason \u001b[39m=\u001b[39m \u001b[39mNone\u001b[39;00m\n\u001b[0;32m    288\u001b[0m     logger\u001b[39m.\u001b[39merror(\n\u001b[0;32m    289\u001b[0m         \u001b[39m'\u001b[39m\u001b[39mHTTP Error for \u001b[39m\u001b[39m%s\u001b[39;00m\u001b[39m to \u001b[39m\u001b[39m%s\u001b[39;00m\u001b[39m with Params: \u001b[39m\u001b[39m%s\u001b[39;00m\u001b[39m returned \u001b[39m\u001b[39m%s\u001b[39;00m\u001b[39m due to \u001b[39m\u001b[39m%s\u001b[39;00m\u001b[39m'\u001b[39m,\n\u001b[0;32m    290\u001b[0m         method, url, args\u001b[39m.\u001b[39mget(\u001b[39m\"\u001b[39m\u001b[39mparams\u001b[39m\u001b[39m\"\u001b[39m), response\u001b[39m.\u001b[39mstatus_code, msg\n\u001b[0;32m    291\u001b[0m     )\n\u001b[1;32m--> 293\u001b[0m     \u001b[39mraise\u001b[39;00m SpotifyException(\n\u001b[0;32m    294\u001b[0m         response\u001b[39m.\u001b[39mstatus_code,\n\u001b[0;32m    295\u001b[0m         \u001b[39m-\u001b[39m\u001b[39m1\u001b[39m,\n\u001b[0;32m    296\u001b[0m         \u001b[39m\"\u001b[39m\u001b[39m%s\u001b[39;00m\u001b[39m:\u001b[39m\u001b[39m\\n\u001b[39;00m\u001b[39m \u001b[39m\u001b[39m%s\u001b[39;00m\u001b[39m\"\u001b[39m \u001b[39m%\u001b[39m (response\u001b[39m.\u001b[39murl, msg),\n\u001b[0;32m    297\u001b[0m         reason\u001b[39m=\u001b[39mreason,\n\u001b[0;32m    298\u001b[0m         headers\u001b[39m=\u001b[39mresponse\u001b[39m.\u001b[39mheaders,\n\u001b[0;32m    299\u001b[0m     )\n\u001b[0;32m    300\u001b[0m \u001b[39mexcept\u001b[39;00m requests\u001b[39m.\u001b[39mexceptions\u001b[39m.\u001b[39mRetryError \u001b[39mas\u001b[39;00m retry_error:\n\u001b[0;32m    301\u001b[0m     request \u001b[39m=\u001b[39m retry_error\u001b[39m.\u001b[39mrequest\n",
      "\u001b[1;31mSpotifyException\u001b[0m: http status: 403, code:-1 - https://api.spotify.com/v1/me/player/pause:\n Player command failed: Restriction violated, reason: UNKNOWN"
     ]
    },
    {
     "ename": "",
     "evalue": "",
     "output_type": "error",
     "traceback": [
      "\u001b[1;31mThe Kernel crashed while executing code in the the current cell or a previous cell. Please review the code in the cell(s) to identify a possible cause of the failure. Click <a href='https://aka.ms/vscodeJupyterKernelCrash'>here</a> for more info. View Jupyter <a href='command:jupyter.viewOutput'>log</a> for further details."
     ]
    }
   ],
   "source": [
    "import spotipy\n",
    "from spotipy.oauth2 import SpotifyClientCredentials\n",
    "\n",
    "client_id = 'ad7d4f3724b6446ebd37af580ca3273e'\n",
    "client_secret = '0d9d08d329e54bc19abc36751534b8f8'\n",
    "    \n",
    "sp = spotipy.Spotify(auth_manager=spotipy.SpotifyOAuth(client_id=client_id,\n",
    "                                                       client_secret=client_secret, \n",
    "                                                       redirect_uri='http://localhost:8888/callback',\n",
    "                                                       scope='user-modify-playback-state'))\n",
    " \n",
    "#sp.next_track()\n",
    "#sp.previous_track()\n",
    "sp.pause_playback()"
   ]
  },
  {
   "cell_type": "code",
   "execution_count": null,
   "metadata": {},
   "outputs": [],
   "source": [
    "import requests\n",
    "\n",
    "# Define the API endpoint for changing the color\n",
    "# requests.get(f\"http://192.168.1.69/win&A={WLED_CNTR}\")\n",
    "api_endpoint = \"http://192.168.1.69/json/state\"\n",
    "\n",
    "# Create a JSON payload to specify the color (e.g., red)\n",
    "color_payload = {\n",
    "    \"seg\": 0,        # Segment index (0 for the first segment)\n",
    "    \"col\": [255, 0, 0]  # RGB color (red)\n",
    "}\n",
    "\n",
    "try:\n",
    "    # Send a POST request to the WLED API endpoint with the JSON payload\n",
    "    response = requests.post(api_endpoint, json=color_payload)\n",
    "\n",
    "    # Check the response status code\n",
    "    if response.status_code == 200:\n",
    "        print(\"Color changed successfully!\")\n",
    "    else:\n",
    "        print(f\"Failed to change color. Status code: {response.status_code}\")\n",
    "except Exception as e:\n",
    "    print(f\"An error occurred: {str(e)}\")\n"
   ]
  }
 ],
 "metadata": {
  "kernelspec": {
   "display_name": "myenv",
   "language": "python",
   "name": "python3"
  },
  "language_info": {
   "codemirror_mode": {
    "name": "ipython",
    "version": 3
   },
   "file_extension": ".py",
   "mimetype": "text/x-python",
   "name": "python",
   "nbconvert_exporter": "python",
   "pygments_lexer": "ipython3",
   "version": "3.11.5"
  }
 },
 "nbformat": 4,
 "nbformat_minor": 2
}
