{
 "cells": [
  {
   "cell_type": "code",
   "execution_count": 1,
   "metadata": {},
   "outputs": [
    {
     "name": "stdout",
     "output_type": "stream",
     "text": [
      "Available serial ports:\n",
      "Port: COM256\n",
      "  - Description: USB-SERIAL CH340 (COM256)\n",
      "  - HWID: USB VID:PID=1A86:7523 SER= LOCATION=1-4\n",
      "  - Manufacturer: wch.cn\n",
      "  - Serial Number: \n",
      "  - Product: None\n",
      "  - VID:PID (USB ID): 6790:29987\n",
      "  - Location: 1-4\n",
      "  - Driver: None\n",
      "\n"
     ]
    }
   ],
   "source": [
    "import serial.tools.list_ports\n",
    "\n",
    "# List all available serial ports\n",
    "ports = serial.tools.list_ports.comports()\n",
    "\n",
    "if len(ports) == 0:\n",
    "    print(\"No serial ports found.\")\n",
    "else:\n",
    "    print(\"Available serial ports:\")\n",
    "    for port in ports:\n",
    "        print(f\"Port: {port.device}\")\n",
    "        print(f\"  - Description: {port.description}\")\n",
    "        print(f\"  - HWID: {port.hwid}\")\n",
    "        print(f\"  - Manufacturer: {port.manufacturer}\")\n",
    "        print(f\"  - Serial Number: {port.serial_number}\")\n",
    "        print(f\"  - Product: {port.product}\")\n",
    "        print(f\"  - VID:PID (USB ID): {port.vid}:{port.pid}\")\n",
    "        print(f\"  - Location: {port.location}\")\n",
    "        print(f\"  - Driver: {port.interface}\")\n",
    "        print()\n"
   ]
  },
  {
   "cell_type": "code",
   "execution_count": 6,
   "metadata": {},
   "outputs": [
    {
     "name": "stdout",
     "output_type": "stream",
     "text": [
      "Available serial ports:\n",
      "found your device :  COM10 - USB-SERIAL CH340 (COM10)\n"
     ]
    }
   ],
   "source": [
    "import serial.tools.list_ports\n",
    "\n",
    "# List all available serial ports\n",
    "ports = serial.tools.list_ports.comports()\n",
    "\n",
    "if len(ports) == 0:\n",
    "    print(\"No serial ports found.\")\n",
    "else:\n",
    "    print(\"Available serial ports:\")\n",
    "    for port in ports:\n",
    "        if port.vid == 6790 and port.pid == 29987:\n",
    "            print(\"found your device : \" , port )"
   ]
  },
  {
   "cell_type": "code",
   "execution_count": 5,
   "metadata": {},
   "outputs": [
    {
     "name": "stdout",
     "output_type": "stream",
     "text": [
      "No serial ports found.\n",
      "None\n",
      "No serial ports found.\n",
      "not found\n",
      "No serial ports found.\n",
      "not found\n",
      "No serial ports found.\n",
      "not found\n",
      "No serial ports found.\n",
      "not found\n",
      "No serial ports found.\n",
      "not found\n",
      "No serial ports found.\n",
      "not found\n",
      "Available serial ports:\n",
      "found your device :  COM11\n"
     ]
    },
    {
     "ename": "",
     "evalue": "",
     "output_type": "error",
     "traceback": [
      "\u001b[1;31mThe Kernel crashed while executing code in the the current cell or a previous cell. Please review the code in the cell(s) to identify a possible cause of the failure. Click <a href='https://aka.ms/vscodeJupyterKernelCrash'>here</a> for more info. View Jupyter <a href='command:jupyter.viewOutput'>log</a> for further details."
     ]
    }
   ],
   "source": [
    "import serial.tools.list_ports\n",
    "import time\n",
    "\n",
    "def get_com_port():\n",
    "    ports = serial.tools.list_ports.comports()\n",
    "    if len(ports) == 0:\n",
    "        print(\"No serial ports found.\")\n",
    "        return None\n",
    "    else:\n",
    "        print(\"Available serial ports:\")\n",
    "        for port in ports:\n",
    "            if port.vid == 6790 and port.pid == 29987:\n",
    "                print(\"found your device : \" , port.device )\n",
    "                return str(port.device)\n",
    "\n",
    "print(get_com_port())\n",
    "\n",
    "while not get_com_port():\n",
    "    print(\"not found\")\n",
    "    time.sleep(1)\n",
    "\n"
   ]
  }
 ],
 "metadata": {
  "kernelspec": {
   "display_name": "myenv",
   "language": "python",
   "name": "python3"
  },
  "language_info": {
   "codemirror_mode": {
    "name": "ipython",
    "version": 3
   },
   "file_extension": ".py",
   "mimetype": "text/x-python",
   "name": "python",
   "nbconvert_exporter": "python",
   "pygments_lexer": "ipython3",
   "version": "3.11.5"
  }
 },
 "nbformat": 4,
 "nbformat_minor": 2
}
